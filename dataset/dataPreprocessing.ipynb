{
 "cells": [
  {
   "cell_type": "markdown",
   "id": "7fe133ac",
   "metadata": {},
   "source": [
    "# Обработка данных о потреблении электроэнергии в домашних условиях"
   ]
  },
  {
   "cell_type": "markdown",
   "id": "a8a69a4c",
   "metadata": {},
   "source": [
    "## Подключение библиотек"
   ]
  },
  {
   "cell_type": "code",
   "execution_count": 15,
   "id": "9db4582f",
   "metadata": {},
   "outputs": [],
   "source": [
    "import pandas as pd\n",
    "import numpy as np"
   ]
  },
  {
   "cell_type": "markdown",
   "id": "d8b16eb3",
   "metadata": {},
   "source": [
    "## Данные"
   ]
  },
  {
   "cell_type": "markdown",
   "id": "8d26d873",
   "metadata": {},
   "source": [
    "### Считываем данные с файла"
   ]
  },
  {
   "cell_type": "code",
   "execution_count": 16,
   "id": "4b875b47",
   "metadata": {},
   "outputs": [
    {
     "name": "stdout",
     "output_type": "stream",
     "text": [
      "               Date      Time  ... Sub_metering_2 Sub_metering_3\n",
      "0        16/12/2006  17:24:00  ...          1.000           17.0\n",
      "1        16/12/2006  17:25:00  ...          1.000           16.0\n",
      "2        16/12/2006  17:26:00  ...          2.000           17.0\n",
      "3        16/12/2006  17:27:00  ...          1.000           17.0\n",
      "4        16/12/2006  17:28:00  ...          1.000           17.0\n",
      "...             ...       ...  ...            ...            ...\n",
      "2075254  26/11/2010  20:58:00  ...          0.000            0.0\n",
      "2075255  26/11/2010  20:59:00  ...          0.000            0.0\n",
      "2075256  26/11/2010  21:00:00  ...          0.000            0.0\n",
      "2075257  26/11/2010  21:01:00  ...          0.000            0.0\n",
      "2075258  26/11/2010  21:02:00  ...          0.000            0.0\n",
      "\n",
      "[2075259 rows x 9 columns]\n"
     ]
    }
   ],
   "source": [
    "file_path = './household_power_consumption.txt'\n",
    "df_original = pd.read_csv(file_path, sep=';', low_memory=False)\n",
    "\n",
    "df = df_original.copy()\n",
    "print(df)"
   ]
  },
  {
   "cell_type": "markdown",
   "id": "6469f389",
   "metadata": {},
   "source": [
    "## Удаляем строки с \"?\" "
   ]
  },
  {
   "cell_type": "code",
   "execution_count": 17,
   "id": "67255426",
   "metadata": {},
   "outputs": [],
   "source": [
    "df.replace('?', pd.NA, inplace=True)\n",
    "df.dropna(inplace=True)"
   ]
  },
  {
   "cell_type": "markdown",
   "id": "c5eb34ac",
   "metadata": {},
   "source": [
    "### Анализируем кол-во пропущенных данных"
   ]
  },
  {
   "cell_type": "code",
   "execution_count": 18,
   "id": "e459bd53",
   "metadata": {},
   "outputs": [
    {
     "name": "stdout",
     "output_type": "stream",
     "text": [
      "                       Total  Percent Missing  Percent Non-Missing\n",
      "Date                       0              0.0                100.0\n",
      "Time                       0              0.0                100.0\n",
      "Global_active_power        0              0.0                100.0\n",
      "Global_reactive_power      0              0.0                100.0\n",
      "Voltage                    0              0.0                100.0\n",
      "Global_intensity           0              0.0                100.0\n",
      "Sub_metering_1             0              0.0                100.0\n",
      "Sub_metering_2             0              0.0                100.0\n",
      "Sub_metering_3             0              0.0                100.0\n"
     ]
    }
   ],
   "source": [
    "missingPercent = df.isnull().mean() * 100\n",
    "nonMisssingPercent = (1 - df.isnull().mean()) * 100\n",
    "\n",
    "missingStats = pd.DataFrame({\n",
    "    \"Total\": df.isnull().sum(), \n",
    "    \"Percent Missing\": missingPercent.round(2),  \n",
    "    \"Percent Non-Missing\": nonMisssingPercent.round(2) \n",
    "})\n",
    "\n",
    "print(missingStats)"
   ]
  },
  {
   "cell_type": "markdown",
   "id": "6473d544",
   "metadata": {},
   "source": [
    "### Подсчет уникальных значений для каждого признака, чтобы определить категории признаков"
   ]
  },
  {
   "cell_type": "code",
   "execution_count": 19,
   "id": "090e44c6",
   "metadata": {},
   "outputs": [
    {
     "name": "stdout",
     "output_type": "stream",
     "text": [
      "                 Feature  Unique Values  Percentage\n",
      "0                   Date           1433    0.069927\n",
      "1                   Time           1440    0.070269\n",
      "2    Global_active_power           4186    0.204267\n",
      "3  Global_reactive_power            532    0.025960\n",
      "4                Voltage           2837    0.138439\n",
      "5       Global_intensity            221    0.010784\n",
      "6         Sub_metering_1             88    0.004294\n",
      "7         Sub_metering_2             81    0.003953\n",
      "8         Sub_metering_3             32    0.001562\n"
     ]
    }
   ],
   "source": [
    "unique_counts = df.nunique()\n",
    "unique_counts_table = pd.DataFrame({\n",
    "    'Feature': unique_counts.index,\n",
    "    'Unique Values': unique_counts.values\n",
    "})\n",
    "\n",
    "unique_counts_table['Percentage'] = (unique_counts_table['Unique Values'] / len(df)) * 100\n",
    "print(unique_counts_table)"
   ]
  },
  {
   "cell_type": "code",
   "execution_count": 20,
   "id": "f7273213",
   "metadata": {},
   "outputs": [
    {
     "name": "stderr",
     "output_type": "stream",
     "text": [
      "C:\\Users\\User\\AppData\\Local\\Temp\\ipykernel_23268\\1391780231.py:1: UserWarning: Parsing dates in %d/%m/%Y %H:%M:%S format when dayfirst=False (the default) was specified. Pass `dayfirst=True` or specify a format to silence this warning.\n",
      "  df['datetime'] = pd.to_datetime(df['Date'] + ' ' + df['Time'])\n"
     ]
    }
   ],
   "source": [
    "df['datetime'] = pd.to_datetime(df['Date'] + ' ' + df['Time'])\n",
    "\n",
    "df.set_index('datetime', inplace=True)\n",
    "df.drop(columns=['Date', 'Time'], inplace=True)\n",
    "\n",
    "df['hour'] = df.index.hour\n",
    "df['day_of_week'] = df.index.dayofweek  # 0=Пн, 6=Вс\n",
    "df['is_weekend'] = (df.index.weekday >= 5).astype(int)\n",
    "df['month'] = df.index.month\n",
    "\n",
    "df['hour_sin'] = np.sin(2 * np.pi * df['hour'] / 24)\n",
    "df['hour_cos'] = np.cos(2 * np.pi * df['hour'] / 24)"
   ]
  },
  {
   "cell_type": "code",
   "execution_count": 21,
   "id": "c7cbf466",
   "metadata": {},
   "outputs": [],
   "source": [
    "df.to_csv('preprocessed_data.csv', index=False)"
   ]
  }
 ],
 "metadata": {
  "kernelspec": {
   "display_name": "venv",
   "language": "python",
   "name": "python3"
  },
  "language_info": {
   "codemirror_mode": {
    "name": "ipython",
    "version": 3
   },
   "file_extension": ".py",
   "mimetype": "text/x-python",
   "name": "python",
   "nbconvert_exporter": "python",
   "pygments_lexer": "ipython3",
   "version": "3.11.0"
  }
 },
 "nbformat": 4,
 "nbformat_minor": 5
}
