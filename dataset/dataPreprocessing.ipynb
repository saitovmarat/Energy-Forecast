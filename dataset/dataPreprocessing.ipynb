{
 "cells": [
  {
   "cell_type": "markdown",
   "id": "7fe133ac",
   "metadata": {},
   "source": [
    "# Обработка данных о потреблении электроэнергии в домашних условиях"
   ]
  },
  {
   "cell_type": "markdown",
   "id": "a8a69a4c",
   "metadata": {},
   "source": [
    "## Подключение библиотек"
   ]
  },
  {
   "cell_type": "code",
   "execution_count": 1,
   "id": "9db4582f",
   "metadata": {},
   "outputs": [],
   "source": [
    "import pandas as pd\n",
    "import numpy as np"
   ]
  },
  {
   "cell_type": "markdown",
   "id": "d8b16eb3",
   "metadata": {},
   "source": [
    "## Данные"
   ]
  },
  {
   "cell_type": "markdown",
   "id": "8d26d873",
   "metadata": {},
   "source": [
    "### Считываем данные с файла"
   ]
  },
  {
   "cell_type": "code",
   "execution_count": 2,
   "id": "4b875b47",
   "metadata": {},
   "outputs": [
    {
     "data": {
      "text/html": [
       "<div>\n",
       "<style scoped>\n",
       "    .dataframe tbody tr th:only-of-type {\n",
       "        vertical-align: middle;\n",
       "    }\n",
       "\n",
       "    .dataframe tbody tr th {\n",
       "        vertical-align: top;\n",
       "    }\n",
       "\n",
       "    .dataframe thead th {\n",
       "        text-align: right;\n",
       "    }\n",
       "</style>\n",
       "<table border=\"1\" class=\"dataframe\">\n",
       "  <thead>\n",
       "    <tr style=\"text-align: right;\">\n",
       "      <th></th>\n",
       "      <th>Date</th>\n",
       "      <th>Time</th>\n",
       "      <th>Global_active_power</th>\n",
       "      <th>Global_reactive_power</th>\n",
       "      <th>Voltage</th>\n",
       "      <th>Global_intensity</th>\n",
       "      <th>Sub_metering_1</th>\n",
       "      <th>Sub_metering_2</th>\n",
       "      <th>Sub_metering_3</th>\n",
       "    </tr>\n",
       "  </thead>\n",
       "  <tbody>\n",
       "    <tr>\n",
       "      <th>0</th>\n",
       "      <td>16/12/2006</td>\n",
       "      <td>17:24:00</td>\n",
       "      <td>4.216</td>\n",
       "      <td>0.418</td>\n",
       "      <td>234.840</td>\n",
       "      <td>18.400</td>\n",
       "      <td>0.000</td>\n",
       "      <td>1.000</td>\n",
       "      <td>17.0</td>\n",
       "    </tr>\n",
       "    <tr>\n",
       "      <th>1</th>\n",
       "      <td>16/12/2006</td>\n",
       "      <td>17:25:00</td>\n",
       "      <td>5.360</td>\n",
       "      <td>0.436</td>\n",
       "      <td>233.630</td>\n",
       "      <td>23.000</td>\n",
       "      <td>0.000</td>\n",
       "      <td>1.000</td>\n",
       "      <td>16.0</td>\n",
       "    </tr>\n",
       "    <tr>\n",
       "      <th>2</th>\n",
       "      <td>16/12/2006</td>\n",
       "      <td>17:26:00</td>\n",
       "      <td>5.374</td>\n",
       "      <td>0.498</td>\n",
       "      <td>233.290</td>\n",
       "      <td>23.000</td>\n",
       "      <td>0.000</td>\n",
       "      <td>2.000</td>\n",
       "      <td>17.0</td>\n",
       "    </tr>\n",
       "    <tr>\n",
       "      <th>3</th>\n",
       "      <td>16/12/2006</td>\n",
       "      <td>17:27:00</td>\n",
       "      <td>5.388</td>\n",
       "      <td>0.502</td>\n",
       "      <td>233.740</td>\n",
       "      <td>23.000</td>\n",
       "      <td>0.000</td>\n",
       "      <td>1.000</td>\n",
       "      <td>17.0</td>\n",
       "    </tr>\n",
       "    <tr>\n",
       "      <th>4</th>\n",
       "      <td>16/12/2006</td>\n",
       "      <td>17:28:00</td>\n",
       "      <td>3.666</td>\n",
       "      <td>0.528</td>\n",
       "      <td>235.680</td>\n",
       "      <td>15.800</td>\n",
       "      <td>0.000</td>\n",
       "      <td>1.000</td>\n",
       "      <td>17.0</td>\n",
       "    </tr>\n",
       "    <tr>\n",
       "      <th>...</th>\n",
       "      <td>...</td>\n",
       "      <td>...</td>\n",
       "      <td>...</td>\n",
       "      <td>...</td>\n",
       "      <td>...</td>\n",
       "      <td>...</td>\n",
       "      <td>...</td>\n",
       "      <td>...</td>\n",
       "      <td>...</td>\n",
       "    </tr>\n",
       "    <tr>\n",
       "      <th>2075254</th>\n",
       "      <td>26/11/2010</td>\n",
       "      <td>20:58:00</td>\n",
       "      <td>0.946</td>\n",
       "      <td>0.000</td>\n",
       "      <td>240.430</td>\n",
       "      <td>4.000</td>\n",
       "      <td>0.000</td>\n",
       "      <td>0.000</td>\n",
       "      <td>0.0</td>\n",
       "    </tr>\n",
       "    <tr>\n",
       "      <th>2075255</th>\n",
       "      <td>26/11/2010</td>\n",
       "      <td>20:59:00</td>\n",
       "      <td>0.944</td>\n",
       "      <td>0.000</td>\n",
       "      <td>240.000</td>\n",
       "      <td>4.000</td>\n",
       "      <td>0.000</td>\n",
       "      <td>0.000</td>\n",
       "      <td>0.0</td>\n",
       "    </tr>\n",
       "    <tr>\n",
       "      <th>2075256</th>\n",
       "      <td>26/11/2010</td>\n",
       "      <td>21:00:00</td>\n",
       "      <td>0.938</td>\n",
       "      <td>0.000</td>\n",
       "      <td>239.820</td>\n",
       "      <td>3.800</td>\n",
       "      <td>0.000</td>\n",
       "      <td>0.000</td>\n",
       "      <td>0.0</td>\n",
       "    </tr>\n",
       "    <tr>\n",
       "      <th>2075257</th>\n",
       "      <td>26/11/2010</td>\n",
       "      <td>21:01:00</td>\n",
       "      <td>0.934</td>\n",
       "      <td>0.000</td>\n",
       "      <td>239.700</td>\n",
       "      <td>3.800</td>\n",
       "      <td>0.000</td>\n",
       "      <td>0.000</td>\n",
       "      <td>0.0</td>\n",
       "    </tr>\n",
       "    <tr>\n",
       "      <th>2075258</th>\n",
       "      <td>26/11/2010</td>\n",
       "      <td>21:02:00</td>\n",
       "      <td>0.932</td>\n",
       "      <td>0.000</td>\n",
       "      <td>239.550</td>\n",
       "      <td>3.800</td>\n",
       "      <td>0.000</td>\n",
       "      <td>0.000</td>\n",
       "      <td>0.0</td>\n",
       "    </tr>\n",
       "  </tbody>\n",
       "</table>\n",
       "<p>2075259 rows × 9 columns</p>\n",
       "</div>"
      ],
      "text/plain": [
       "               Date      Time Global_active_power Global_reactive_power  \\\n",
       "0        16/12/2006  17:24:00               4.216                 0.418   \n",
       "1        16/12/2006  17:25:00               5.360                 0.436   \n",
       "2        16/12/2006  17:26:00               5.374                 0.498   \n",
       "3        16/12/2006  17:27:00               5.388                 0.502   \n",
       "4        16/12/2006  17:28:00               3.666                 0.528   \n",
       "...             ...       ...                 ...                   ...   \n",
       "2075254  26/11/2010  20:58:00               0.946                 0.000   \n",
       "2075255  26/11/2010  20:59:00               0.944                 0.000   \n",
       "2075256  26/11/2010  21:00:00               0.938                 0.000   \n",
       "2075257  26/11/2010  21:01:00               0.934                 0.000   \n",
       "2075258  26/11/2010  21:02:00               0.932                 0.000   \n",
       "\n",
       "         Voltage Global_intensity Sub_metering_1 Sub_metering_2  \\\n",
       "0        234.840           18.400          0.000          1.000   \n",
       "1        233.630           23.000          0.000          1.000   \n",
       "2        233.290           23.000          0.000          2.000   \n",
       "3        233.740           23.000          0.000          1.000   \n",
       "4        235.680           15.800          0.000          1.000   \n",
       "...          ...              ...            ...            ...   \n",
       "2075254  240.430            4.000          0.000          0.000   \n",
       "2075255  240.000            4.000          0.000          0.000   \n",
       "2075256  239.820            3.800          0.000          0.000   \n",
       "2075257  239.700            3.800          0.000          0.000   \n",
       "2075258  239.550            3.800          0.000          0.000   \n",
       "\n",
       "         Sub_metering_3  \n",
       "0                  17.0  \n",
       "1                  16.0  \n",
       "2                  17.0  \n",
       "3                  17.0  \n",
       "4                  17.0  \n",
       "...                 ...  \n",
       "2075254             0.0  \n",
       "2075255             0.0  \n",
       "2075256             0.0  \n",
       "2075257             0.0  \n",
       "2075258             0.0  \n",
       "\n",
       "[2075259 rows x 9 columns]"
      ]
     },
     "execution_count": 2,
     "metadata": {},
     "output_type": "execute_result"
    }
   ],
   "source": [
    "file_path = './household_power_consumption.txt'\n",
    "df_original = pd.read_csv(file_path, sep=';', low_memory=False)\n",
    "\n",
    "df = df_original.copy()\n",
    "df"
   ]
  },
  {
   "cell_type": "code",
   "execution_count": 3,
   "id": "18234903",
   "metadata": {},
   "outputs": [],
   "source": [
    "df['datetime'] = pd.to_datetime(df['Date'] + ' ' + df['Time'], \n",
    "                                format='%d/%m/%Y %H:%M:%S')\n",
    "\n",
    "df.set_index('datetime', inplace=True)\n",
    "df.drop(columns=['Date', 'Time'], inplace=True)\n",
    "\n",
    "df['hour'] = df.index.hour\n",
    "df['day_of_week'] = df.index.dayofweek  # 0=Пн, 6=Вс\n",
    "df['is_weekend'] = (df.index.weekday >= 5).astype(int)\n",
    "df['month'] = df.index.month\n",
    "\n",
    "df['hour_sin'] = np.sin(2 * np.pi * df['hour'] / 24)\n",
    "df['hour_cos'] = np.cos(2 * np.pi * df['hour'] / 24)"
   ]
  },
  {
   "cell_type": "code",
   "execution_count": 4,
   "id": "713cbf70",
   "metadata": {},
   "outputs": [
    {
     "name": "stdout",
     "output_type": "stream",
     "text": [
      "                       Total  Percent Missing  Percent Non-Missing\n",
      "Global_active_power        0             0.00               100.00\n",
      "Global_reactive_power      0             0.00               100.00\n",
      "Voltage                    0             0.00               100.00\n",
      "Global_intensity           0             0.00               100.00\n",
      "Sub_metering_1             0             0.00               100.00\n",
      "Sub_metering_2             0             0.00               100.00\n",
      "Sub_metering_3         25979             1.25                98.75\n",
      "hour                       0             0.00               100.00\n",
      "day_of_week                0             0.00               100.00\n",
      "is_weekend                 0             0.00               100.00\n",
      "month                      0             0.00               100.00\n",
      "hour_sin                   0             0.00               100.00\n",
      "hour_cos                   0             0.00               100.00\n"
     ]
    }
   ],
   "source": [
    "missingPercent = df.isnull().mean() * 100\n",
    "nonMisssingPercent = (1 - df.isnull().mean()) * 100\n",
    "\n",
    "missingStats = pd.DataFrame({\n",
    "    \"Total\": df.isnull().sum(), \n",
    "    \"Percent Missing\": missingPercent.round(2),  \n",
    "    \"Percent Non-Missing\": nonMisssingPercent.round(2) \n",
    "})\n",
    "\n",
    "print(missingStats)"
   ]
  },
  {
   "cell_type": "markdown",
   "id": "6469f389",
   "metadata": {},
   "source": [
    "## Удаляем строки с \"?\" "
   ]
  },
  {
   "cell_type": "code",
   "execution_count": 5,
   "id": "7414a981",
   "metadata": {},
   "outputs": [],
   "source": [
    "df.replace('?', np.nan, inplace=True)\n",
    "for col in df.columns:\n",
    "    df[col] = pd.to_numeric(df[col], errors='coerce')\n",
    "    \n",
    "means = df.mean()\n",
    "df.fillna(means, inplace=True)\n",
    "\n",
    "# df['Sub_metering_3'] = df['Sub_metering_3'].replace('?', np.nan)\n",
    "# df['Sub_metering_3'] = pd.to_numeric(df['Sub_metering_3'], errors='coerce')\n",
    "# mean_value = df['Sub_metering_3'].mean()\n",
    "# df['Sub_metering_3'] = df['Sub_metering_3'].fillna(mean_value)"
   ]
  },
  {
   "cell_type": "code",
   "execution_count": 6,
   "id": "67255426",
   "metadata": {},
   "outputs": [],
   "source": [
    "# df.replace('?', pd.NA, inplace=True)\n",
    "# df.dropna(inplace=True)"
   ]
  },
  {
   "cell_type": "markdown",
   "id": "c5eb34ac",
   "metadata": {},
   "source": [
    "### Анализируем кол-во пропущенных данных"
   ]
  },
  {
   "cell_type": "code",
   "execution_count": 7,
   "id": "e459bd53",
   "metadata": {},
   "outputs": [
    {
     "name": "stdout",
     "output_type": "stream",
     "text": [
      "                       Total  Percent Missing  Percent Non-Missing\n",
      "Global_active_power        0              0.0                100.0\n",
      "Global_reactive_power      0              0.0                100.0\n",
      "Voltage                    0              0.0                100.0\n",
      "Global_intensity           0              0.0                100.0\n",
      "Sub_metering_1             0              0.0                100.0\n",
      "Sub_metering_2             0              0.0                100.0\n",
      "Sub_metering_3             0              0.0                100.0\n",
      "hour                       0              0.0                100.0\n",
      "day_of_week                0              0.0                100.0\n",
      "is_weekend                 0              0.0                100.0\n",
      "month                      0              0.0                100.0\n",
      "hour_sin                   0              0.0                100.0\n",
      "hour_cos                   0              0.0                100.0\n"
     ]
    }
   ],
   "source": [
    "missingPercent = df.isnull().mean() * 100\n",
    "nonMisssingPercent = (1 - df.isnull().mean()) * 100\n",
    "\n",
    "missingStats = pd.DataFrame({\n",
    "    \"Total\": df.isnull().sum(), \n",
    "    \"Percent Missing\": missingPercent.round(2),  \n",
    "    \"Percent Non-Missing\": nonMisssingPercent.round(2) \n",
    "})\n",
    "\n",
    "print(missingStats)"
   ]
  },
  {
   "cell_type": "markdown",
   "id": "6473d544",
   "metadata": {},
   "source": [
    "### Подсчет уникальных значений для каждого признака, чтобы определить категории признаков"
   ]
  },
  {
   "cell_type": "code",
   "execution_count": 8,
   "id": "090e44c6",
   "metadata": {},
   "outputs": [
    {
     "name": "stdout",
     "output_type": "stream",
     "text": [
      "                  Feature  Unique Values  Percentage\n",
      "0     Global_active_power           4187    0.201758\n",
      "1   Global_reactive_power            533    0.025684\n",
      "2                 Voltage           2838    0.136754\n",
      "3        Global_intensity            222    0.010697\n",
      "4          Sub_metering_1             89    0.004289\n",
      "5          Sub_metering_2             82    0.003951\n",
      "6          Sub_metering_3             33    0.001590\n",
      "7                    hour             24    0.001156\n",
      "8             day_of_week              7    0.000337\n",
      "9              is_weekend              2    0.000096\n",
      "10                  month             12    0.000578\n",
      "11               hour_sin             21    0.001012\n",
      "12               hour_cos             22    0.001060\n"
     ]
    }
   ],
   "source": [
    "unique_counts = df.nunique()\n",
    "unique_counts_table = pd.DataFrame({\n",
    "    'Feature': unique_counts.index,\n",
    "    'Unique Values': unique_counts.values\n",
    "})\n",
    "\n",
    "unique_counts_table['Percentage'] = (unique_counts_table['Unique Values'] / len(df)) * 100\n",
    "print(unique_counts_table)"
   ]
  },
  {
   "cell_type": "code",
   "execution_count": 9,
   "id": "068c8423",
   "metadata": {},
   "outputs": [
    {
     "name": "stdout",
     "output_type": "stream",
     "text": [
      "Global_active_power      float64\n",
      "Global_reactive_power    float64\n",
      "Voltage                  float64\n",
      "Global_intensity         float64\n",
      "Sub_metering_1           float64\n",
      "Sub_metering_2           float64\n",
      "Sub_metering_3           float64\n",
      "hour                     float64\n",
      "day_of_week              float64\n",
      "is_weekend               float64\n",
      "month                    float64\n",
      "hour_sin                 float64\n",
      "hour_cos                 float64\n",
      "dtype: object\n"
     ]
    }
   ],
   "source": [
    "for col in df.columns:\n",
    "    df[col] = df[col].astype('float64')\n",
    "\n",
    "print(df.dtypes)"
   ]
  },
  {
   "cell_type": "code",
   "execution_count": 10,
   "id": "0b901d21",
   "metadata": {},
   "outputs": [
    {
     "name": "stdout",
     "output_type": "stream",
     "text": [
      "Global_active_power      1.000000\n",
      "Global_intensity         0.998889\n",
      "Sub_metering_3           0.638555\n",
      "Sub_metering_1           0.484401\n",
      "Sub_metering_2           0.434569\n",
      "Voltage                  0.399762\n",
      "hour                     0.279953\n",
      "Global_reactive_power    0.247017\n",
      "hour_sin                 0.186999\n",
      "hour_cos                 0.109704\n",
      "is_weekend               0.083841\n",
      "day_of_week              0.065320\n",
      "month                    0.032520\n",
      "Name: Global_active_power, dtype: float64\n"
     ]
    }
   ],
   "source": [
    "target = 'Global_active_power'\n",
    "correlations = df.corr(numeric_only=True)[target].abs().sort_values(ascending=False)\n",
    "print(correlations)"
   ]
  },
  {
   "cell_type": "code",
   "execution_count": 11,
   "id": "c7cbf466",
   "metadata": {},
   "outputs": [],
   "source": [
    "df.to_csv('preprocessed_data.csv', index=True)"
   ]
  }
 ],
 "metadata": {
  "kernelspec": {
   "display_name": "venv",
   "language": "python",
   "name": "python3"
  },
  "language_info": {
   "codemirror_mode": {
    "name": "ipython",
    "version": 3
   },
   "file_extension": ".py",
   "mimetype": "text/x-python",
   "name": "python",
   "nbconvert_exporter": "python",
   "pygments_lexer": "ipython3",
   "version": "3.11.0"
  }
 },
 "nbformat": 4,
 "nbformat_minor": 5
}
