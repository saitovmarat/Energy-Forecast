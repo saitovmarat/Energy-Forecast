{
 "cells": [
  {
   "cell_type": "markdown",
   "id": "7fe133ac",
   "metadata": {},
   "source": [
    "# Обработка данных о потреблении электроэнергии в домашних условиях"
   ]
  },
  {
   "cell_type": "markdown",
   "id": "a8a69a4c",
   "metadata": {},
   "source": [
    "## Подключение библиотек"
   ]
  },
  {
   "cell_type": "code",
   "execution_count": 2,
   "id": "9db4582f",
   "metadata": {},
   "outputs": [],
   "source": [
    "import pandas as pd\n",
    "import numpy as np"
   ]
  },
  {
   "cell_type": "markdown",
   "id": "d8b16eb3",
   "metadata": {},
   "source": [
    "## Данные"
   ]
  },
  {
   "cell_type": "markdown",
   "id": "8d26d873",
   "metadata": {},
   "source": [
    "### Считываем данные с файла"
   ]
  },
  {
   "cell_type": "code",
   "execution_count": 3,
   "id": "4b875b47",
   "metadata": {},
   "outputs": [
    {
     "data": {
      "application/vnd.microsoft.datawrangler.viewer.v0+json": {
       "columns": [
        {
         "name": "index",
         "rawType": "int64",
         "type": "integer"
        },
        {
         "name": "Date",
         "rawType": "object",
         "type": "string"
        },
        {
         "name": "Time",
         "rawType": "object",
         "type": "string"
        },
        {
         "name": "Global_active_power",
         "rawType": "object",
         "type": "string"
        },
        {
         "name": "Global_reactive_power",
         "rawType": "object",
         "type": "string"
        },
        {
         "name": "Voltage",
         "rawType": "object",
         "type": "string"
        },
        {
         "name": "Global_intensity",
         "rawType": "object",
         "type": "string"
        },
        {
         "name": "Sub_metering_1",
         "rawType": "object",
         "type": "string"
        },
        {
         "name": "Sub_metering_2",
         "rawType": "object",
         "type": "string"
        },
        {
         "name": "Sub_metering_3",
         "rawType": "float64",
         "type": "float"
        }
       ],
       "ref": "357433f6-e3d3-4409-b52a-eec7d795777d",
       "rows": [
        [
         "0",
         "16/12/2006",
         "17:24:00",
         "4.216",
         "0.418",
         "234.840",
         "18.400",
         "0.000",
         "1.000",
         "17.0"
        ],
        [
         "1",
         "16/12/2006",
         "17:25:00",
         "5.360",
         "0.436",
         "233.630",
         "23.000",
         "0.000",
         "1.000",
         "16.0"
        ],
        [
         "2",
         "16/12/2006",
         "17:26:00",
         "5.374",
         "0.498",
         "233.290",
         "23.000",
         "0.000",
         "2.000",
         "17.0"
        ],
        [
         "3",
         "16/12/2006",
         "17:27:00",
         "5.388",
         "0.502",
         "233.740",
         "23.000",
         "0.000",
         "1.000",
         "17.0"
        ],
        [
         "4",
         "16/12/2006",
         "17:28:00",
         "3.666",
         "0.528",
         "235.680",
         "15.800",
         "0.000",
         "1.000",
         "17.0"
        ],
        [
         "5",
         "16/12/2006",
         "17:29:00",
         "3.520",
         "0.522",
         "235.020",
         "15.000",
         "0.000",
         "2.000",
         "17.0"
        ],
        [
         "6",
         "16/12/2006",
         "17:30:00",
         "3.702",
         "0.520",
         "235.090",
         "15.800",
         "0.000",
         "1.000",
         "17.0"
        ],
        [
         "7",
         "16/12/2006",
         "17:31:00",
         "3.700",
         "0.520",
         "235.220",
         "15.800",
         "0.000",
         "1.000",
         "17.0"
        ],
        [
         "8",
         "16/12/2006",
         "17:32:00",
         "3.668",
         "0.510",
         "233.990",
         "15.800",
         "0.000",
         "1.000",
         "17.0"
        ],
        [
         "9",
         "16/12/2006",
         "17:33:00",
         "3.662",
         "0.510",
         "233.860",
         "15.800",
         "0.000",
         "2.000",
         "16.0"
        ],
        [
         "10",
         "16/12/2006",
         "17:34:00",
         "4.448",
         "0.498",
         "232.860",
         "19.600",
         "0.000",
         "1.000",
         "17.0"
        ],
        [
         "11",
         "16/12/2006",
         "17:35:00",
         "5.412",
         "0.470",
         "232.780",
         "23.200",
         "0.000",
         "1.000",
         "17.0"
        ],
        [
         "12",
         "16/12/2006",
         "17:36:00",
         "5.224",
         "0.478",
         "232.990",
         "22.400",
         "0.000",
         "1.000",
         "16.0"
        ],
        [
         "13",
         "16/12/2006",
         "17:37:00",
         "5.268",
         "0.398",
         "232.910",
         "22.600",
         "0.000",
         "2.000",
         "17.0"
        ],
        [
         "14",
         "16/12/2006",
         "17:38:00",
         "4.054",
         "0.422",
         "235.240",
         "17.600",
         "0.000",
         "1.000",
         "17.0"
        ],
        [
         "15",
         "16/12/2006",
         "17:39:00",
         "3.384",
         "0.282",
         "237.140",
         "14.200",
         "0.000",
         "0.000",
         "17.0"
        ],
        [
         "16",
         "16/12/2006",
         "17:40:00",
         "3.270",
         "0.152",
         "236.730",
         "13.800",
         "0.000",
         "0.000",
         "17.0"
        ],
        [
         "17",
         "16/12/2006",
         "17:41:00",
         "3.430",
         "0.156",
         "237.060",
         "14.400",
         "0.000",
         "0.000",
         "17.0"
        ],
        [
         "18",
         "16/12/2006",
         "17:42:00",
         "3.266",
         "0.000",
         "237.130",
         "13.800",
         "0.000",
         "0.000",
         "18.0"
        ],
        [
         "19",
         "16/12/2006",
         "17:43:00",
         "3.728",
         "0.000",
         "235.840",
         "16.400",
         "0.000",
         "0.000",
         "17.0"
        ],
        [
         "20",
         "16/12/2006",
         "17:44:00",
         "5.894",
         "0.000",
         "232.690",
         "25.400",
         "0.000",
         "0.000",
         "16.0"
        ],
        [
         "21",
         "16/12/2006",
         "17:45:00",
         "7.706",
         "0.000",
         "230.980",
         "33.200",
         "0.000",
         "0.000",
         "17.0"
        ],
        [
         "22",
         "16/12/2006",
         "17:46:00",
         "7.026",
         "0.000",
         "232.210",
         "30.600",
         "0.000",
         "0.000",
         "16.0"
        ],
        [
         "23",
         "16/12/2006",
         "17:47:00",
         "5.174",
         "0.000",
         "234.190",
         "22.000",
         "0.000",
         "0.000",
         "17.0"
        ],
        [
         "24",
         "16/12/2006",
         "17:48:00",
         "4.474",
         "0.000",
         "234.960",
         "19.400",
         "0.000",
         "0.000",
         "17.0"
        ],
        [
         "25",
         "16/12/2006",
         "17:49:00",
         "3.248",
         "0.000",
         "236.660",
         "13.600",
         "0.000",
         "0.000",
         "17.0"
        ],
        [
         "26",
         "16/12/2006",
         "17:50:00",
         "3.236",
         "0.000",
         "235.840",
         "13.600",
         "0.000",
         "0.000",
         "17.0"
        ],
        [
         "27",
         "16/12/2006",
         "17:51:00",
         "3.228",
         "0.000",
         "235.600",
         "13.600",
         "0.000",
         "0.000",
         "17.0"
        ],
        [
         "28",
         "16/12/2006",
         "17:52:00",
         "3.258",
         "0.000",
         "235.490",
         "13.800",
         "0.000",
         "0.000",
         "17.0"
        ],
        [
         "29",
         "16/12/2006",
         "17:53:00",
         "3.178",
         "0.000",
         "235.280",
         "13.400",
         "0.000",
         "0.000",
         "17.0"
        ],
        [
         "30",
         "16/12/2006",
         "17:54:00",
         "2.720",
         "0.000",
         "235.060",
         "11.600",
         "0.000",
         "0.000",
         "17.0"
        ],
        [
         "31",
         "16/12/2006",
         "17:55:00",
         "3.758",
         "0.076",
         "234.170",
         "16.400",
         "0.000",
         "0.000",
         "17.0"
        ],
        [
         "32",
         "16/12/2006",
         "17:56:00",
         "4.342",
         "0.090",
         "233.770",
         "18.400",
         "0.000",
         "0.000",
         "16.0"
        ],
        [
         "33",
         "16/12/2006",
         "17:57:00",
         "4.512",
         "0.000",
         "233.620",
         "19.200",
         "0.000",
         "0.000",
         "17.0"
        ],
        [
         "34",
         "16/12/2006",
         "17:58:00",
         "4.058",
         "0.200",
         "234.680",
         "17.600",
         "0.000",
         "0.000",
         "17.0"
        ],
        [
         "35",
         "16/12/2006",
         "17:59:00",
         "2.472",
         "0.058",
         "236.940",
         "10.400",
         "0.000",
         "0.000",
         "17.0"
        ],
        [
         "36",
         "16/12/2006",
         "18:00:00",
         "2.790",
         "0.180",
         "237.520",
         "11.800",
         "0.000",
         "0.000",
         "18.0"
        ],
        [
         "37",
         "16/12/2006",
         "18:01:00",
         "2.624",
         "0.144",
         "238.200",
         "11.000",
         "0.000",
         "0.000",
         "17.0"
        ],
        [
         "38",
         "16/12/2006",
         "18:02:00",
         "2.772",
         "0.118",
         "238.280",
         "11.600",
         "0.000",
         "0.000",
         "17.0"
        ],
        [
         "39",
         "16/12/2006",
         "18:03:00",
         "3.740",
         "0.108",
         "236.930",
         "16.400",
         "0.000",
         "16.000",
         "18.0"
        ],
        [
         "40",
         "16/12/2006",
         "18:04:00",
         "4.928",
         "0.202",
         "235.010",
         "21.000",
         "0.000",
         "37.000",
         "16.0"
        ],
        [
         "41",
         "16/12/2006",
         "18:05:00",
         "6.052",
         "0.192",
         "232.930",
         "26.200",
         "0.000",
         "37.000",
         "17.0"
        ],
        [
         "42",
         "16/12/2006",
         "18:06:00",
         "6.752",
         "0.186",
         "232.120",
         "29.000",
         "0.000",
         "36.000",
         "17.0"
        ],
        [
         "43",
         "16/12/2006",
         "18:07:00",
         "6.474",
         "0.144",
         "231.850",
         "27.800",
         "0.000",
         "37.000",
         "16.0"
        ],
        [
         "44",
         "16/12/2006",
         "18:08:00",
         "6.308",
         "0.116",
         "232.250",
         "27.000",
         "0.000",
         "36.000",
         "17.0"
        ],
        [
         "45",
         "16/12/2006",
         "18:09:00",
         "4.464",
         "0.136",
         "234.660",
         "19.000",
         "0.000",
         "37.000",
         "16.0"
        ],
        [
         "46",
         "16/12/2006",
         "18:10:00",
         "3.396",
         "0.148",
         "236.200",
         "15.000",
         "0.000",
         "22.000",
         "18.0"
        ],
        [
         "47",
         "16/12/2006",
         "18:11:00",
         "3.090",
         "0.152",
         "237.070",
         "13.800",
         "0.000",
         "12.000",
         "17.0"
        ],
        [
         "48",
         "16/12/2006",
         "18:12:00",
         "3.730",
         "0.144",
         "235.780",
         "16.400",
         "0.000",
         "27.000",
         "17.0"
        ],
        [
         "49",
         "16/12/2006",
         "18:13:00",
         "2.308",
         "0.160",
         "237.430",
         "9.600",
         "0.000",
         "1.000",
         "17.0"
        ]
       ],
       "shape": {
        "columns": 9,
        "rows": 2075259
       }
      },
      "text/html": [
       "<div>\n",
       "<style scoped>\n",
       "    .dataframe tbody tr th:only-of-type {\n",
       "        vertical-align: middle;\n",
       "    }\n",
       "\n",
       "    .dataframe tbody tr th {\n",
       "        vertical-align: top;\n",
       "    }\n",
       "\n",
       "    .dataframe thead th {\n",
       "        text-align: right;\n",
       "    }\n",
       "</style>\n",
       "<table border=\"1\" class=\"dataframe\">\n",
       "  <thead>\n",
       "    <tr style=\"text-align: right;\">\n",
       "      <th></th>\n",
       "      <th>Date</th>\n",
       "      <th>Time</th>\n",
       "      <th>Global_active_power</th>\n",
       "      <th>Global_reactive_power</th>\n",
       "      <th>Voltage</th>\n",
       "      <th>Global_intensity</th>\n",
       "      <th>Sub_metering_1</th>\n",
       "      <th>Sub_metering_2</th>\n",
       "      <th>Sub_metering_3</th>\n",
       "    </tr>\n",
       "  </thead>\n",
       "  <tbody>\n",
       "    <tr>\n",
       "      <th>0</th>\n",
       "      <td>16/12/2006</td>\n",
       "      <td>17:24:00</td>\n",
       "      <td>4.216</td>\n",
       "      <td>0.418</td>\n",
       "      <td>234.840</td>\n",
       "      <td>18.400</td>\n",
       "      <td>0.000</td>\n",
       "      <td>1.000</td>\n",
       "      <td>17.0</td>\n",
       "    </tr>\n",
       "    <tr>\n",
       "      <th>1</th>\n",
       "      <td>16/12/2006</td>\n",
       "      <td>17:25:00</td>\n",
       "      <td>5.360</td>\n",
       "      <td>0.436</td>\n",
       "      <td>233.630</td>\n",
       "      <td>23.000</td>\n",
       "      <td>0.000</td>\n",
       "      <td>1.000</td>\n",
       "      <td>16.0</td>\n",
       "    </tr>\n",
       "    <tr>\n",
       "      <th>2</th>\n",
       "      <td>16/12/2006</td>\n",
       "      <td>17:26:00</td>\n",
       "      <td>5.374</td>\n",
       "      <td>0.498</td>\n",
       "      <td>233.290</td>\n",
       "      <td>23.000</td>\n",
       "      <td>0.000</td>\n",
       "      <td>2.000</td>\n",
       "      <td>17.0</td>\n",
       "    </tr>\n",
       "    <tr>\n",
       "      <th>3</th>\n",
       "      <td>16/12/2006</td>\n",
       "      <td>17:27:00</td>\n",
       "      <td>5.388</td>\n",
       "      <td>0.502</td>\n",
       "      <td>233.740</td>\n",
       "      <td>23.000</td>\n",
       "      <td>0.000</td>\n",
       "      <td>1.000</td>\n",
       "      <td>17.0</td>\n",
       "    </tr>\n",
       "    <tr>\n",
       "      <th>4</th>\n",
       "      <td>16/12/2006</td>\n",
       "      <td>17:28:00</td>\n",
       "      <td>3.666</td>\n",
       "      <td>0.528</td>\n",
       "      <td>235.680</td>\n",
       "      <td>15.800</td>\n",
       "      <td>0.000</td>\n",
       "      <td>1.000</td>\n",
       "      <td>17.0</td>\n",
       "    </tr>\n",
       "    <tr>\n",
       "      <th>...</th>\n",
       "      <td>...</td>\n",
       "      <td>...</td>\n",
       "      <td>...</td>\n",
       "      <td>...</td>\n",
       "      <td>...</td>\n",
       "      <td>...</td>\n",
       "      <td>...</td>\n",
       "      <td>...</td>\n",
       "      <td>...</td>\n",
       "    </tr>\n",
       "    <tr>\n",
       "      <th>2075254</th>\n",
       "      <td>26/11/2010</td>\n",
       "      <td>20:58:00</td>\n",
       "      <td>0.946</td>\n",
       "      <td>0.000</td>\n",
       "      <td>240.430</td>\n",
       "      <td>4.000</td>\n",
       "      <td>0.000</td>\n",
       "      <td>0.000</td>\n",
       "      <td>0.0</td>\n",
       "    </tr>\n",
       "    <tr>\n",
       "      <th>2075255</th>\n",
       "      <td>26/11/2010</td>\n",
       "      <td>20:59:00</td>\n",
       "      <td>0.944</td>\n",
       "      <td>0.000</td>\n",
       "      <td>240.000</td>\n",
       "      <td>4.000</td>\n",
       "      <td>0.000</td>\n",
       "      <td>0.000</td>\n",
       "      <td>0.0</td>\n",
       "    </tr>\n",
       "    <tr>\n",
       "      <th>2075256</th>\n",
       "      <td>26/11/2010</td>\n",
       "      <td>21:00:00</td>\n",
       "      <td>0.938</td>\n",
       "      <td>0.000</td>\n",
       "      <td>239.820</td>\n",
       "      <td>3.800</td>\n",
       "      <td>0.000</td>\n",
       "      <td>0.000</td>\n",
       "      <td>0.0</td>\n",
       "    </tr>\n",
       "    <tr>\n",
       "      <th>2075257</th>\n",
       "      <td>26/11/2010</td>\n",
       "      <td>21:01:00</td>\n",
       "      <td>0.934</td>\n",
       "      <td>0.000</td>\n",
       "      <td>239.700</td>\n",
       "      <td>3.800</td>\n",
       "      <td>0.000</td>\n",
       "      <td>0.000</td>\n",
       "      <td>0.0</td>\n",
       "    </tr>\n",
       "    <tr>\n",
       "      <th>2075258</th>\n",
       "      <td>26/11/2010</td>\n",
       "      <td>21:02:00</td>\n",
       "      <td>0.932</td>\n",
       "      <td>0.000</td>\n",
       "      <td>239.550</td>\n",
       "      <td>3.800</td>\n",
       "      <td>0.000</td>\n",
       "      <td>0.000</td>\n",
       "      <td>0.0</td>\n",
       "    </tr>\n",
       "  </tbody>\n",
       "</table>\n",
       "<p>2075259 rows × 9 columns</p>\n",
       "</div>"
      ],
      "text/plain": [
       "               Date      Time Global_active_power Global_reactive_power  \\\n",
       "0        16/12/2006  17:24:00               4.216                 0.418   \n",
       "1        16/12/2006  17:25:00               5.360                 0.436   \n",
       "2        16/12/2006  17:26:00               5.374                 0.498   \n",
       "3        16/12/2006  17:27:00               5.388                 0.502   \n",
       "4        16/12/2006  17:28:00               3.666                 0.528   \n",
       "...             ...       ...                 ...                   ...   \n",
       "2075254  26/11/2010  20:58:00               0.946                 0.000   \n",
       "2075255  26/11/2010  20:59:00               0.944                 0.000   \n",
       "2075256  26/11/2010  21:00:00               0.938                 0.000   \n",
       "2075257  26/11/2010  21:01:00               0.934                 0.000   \n",
       "2075258  26/11/2010  21:02:00               0.932                 0.000   \n",
       "\n",
       "         Voltage Global_intensity Sub_metering_1 Sub_metering_2  \\\n",
       "0        234.840           18.400          0.000          1.000   \n",
       "1        233.630           23.000          0.000          1.000   \n",
       "2        233.290           23.000          0.000          2.000   \n",
       "3        233.740           23.000          0.000          1.000   \n",
       "4        235.680           15.800          0.000          1.000   \n",
       "...          ...              ...            ...            ...   \n",
       "2075254  240.430            4.000          0.000          0.000   \n",
       "2075255  240.000            4.000          0.000          0.000   \n",
       "2075256  239.820            3.800          0.000          0.000   \n",
       "2075257  239.700            3.800          0.000          0.000   \n",
       "2075258  239.550            3.800          0.000          0.000   \n",
       "\n",
       "         Sub_metering_3  \n",
       "0                  17.0  \n",
       "1                  16.0  \n",
       "2                  17.0  \n",
       "3                  17.0  \n",
       "4                  17.0  \n",
       "...                 ...  \n",
       "2075254             0.0  \n",
       "2075255             0.0  \n",
       "2075256             0.0  \n",
       "2075257             0.0  \n",
       "2075258             0.0  \n",
       "\n",
       "[2075259 rows x 9 columns]"
      ]
     },
     "execution_count": 3,
     "metadata": {},
     "output_type": "execute_result"
    }
   ],
   "source": [
    "file_path = './household_power_consumption.txt'\n",
    "df_original = pd.read_csv(file_path, sep=';', low_memory=False)\n",
    "\n",
    "df = df_original.copy()\n",
    "df"
   ]
  },
  {
   "cell_type": "code",
   "execution_count": 4,
   "id": "18234903",
   "metadata": {},
   "outputs": [],
   "source": [
    "df['datetime'] = pd.to_datetime(df['Date'] + ' ' + df['Time'], \n",
    "                                format='%d/%m/%Y %H:%M:%S')\n",
    "\n",
    "df.set_index('datetime', inplace=True)\n",
    "df.drop(columns=['Date', 'Time'], inplace=True)\n",
    "\n",
    "df['hour'] = df.index.hour\n",
    "df['day_of_week'] = df.index.dayofweek  # 0=Пн, 6=Вс\n",
    "df['is_weekend'] = (df.index.weekday >= 5).astype(int)\n",
    "df['month'] = df.index.month\n",
    "\n",
    "df['hour_sin'] = np.sin(2 * np.pi * df['hour'] / 24)\n",
    "df['hour_cos'] = np.cos(2 * np.pi * df['hour'] / 24)"
   ]
  },
  {
   "cell_type": "code",
   "execution_count": 5,
   "id": "713cbf70",
   "metadata": {},
   "outputs": [
    {
     "name": "stdout",
     "output_type": "stream",
     "text": [
      "                       Total  Percent Missing  Percent Non-Missing\n",
      "Global_active_power        0             0.00               100.00\n",
      "Global_reactive_power      0             0.00               100.00\n",
      "Voltage                    0             0.00               100.00\n",
      "Global_intensity           0             0.00               100.00\n",
      "Sub_metering_1             0             0.00               100.00\n",
      "Sub_metering_2             0             0.00               100.00\n",
      "Sub_metering_3         25979             1.25                98.75\n",
      "hour                       0             0.00               100.00\n",
      "day_of_week                0             0.00               100.00\n",
      "is_weekend                 0             0.00               100.00\n",
      "month                      0             0.00               100.00\n",
      "hour_sin                   0             0.00               100.00\n",
      "hour_cos                   0             0.00               100.00\n"
     ]
    }
   ],
   "source": [
    "missingPercent = df.isnull().mean() * 100\n",
    "nonMisssingPercent = (1 - df.isnull().mean()) * 100\n",
    "\n",
    "missingStats = pd.DataFrame({\n",
    "    \"Total\": df.isnull().sum(), \n",
    "    \"Percent Missing\": missingPercent.round(2),  \n",
    "    \"Percent Non-Missing\": nonMisssingPercent.round(2) \n",
    "})\n",
    "\n",
    "print(missingStats)"
   ]
  },
  {
   "cell_type": "markdown",
   "id": "6469f389",
   "metadata": {},
   "source": [
    "## Заменяем пропущенные значение с помощью линейной интерполяции"
   ]
  },
  {
   "cell_type": "code",
   "execution_count": 6,
   "id": "7414a981",
   "metadata": {},
   "outputs": [],
   "source": [
    "df.replace('?', np.nan, inplace=True)\n",
    "for col in df.columns:\n",
    "    df[col] = pd.to_numeric(df[col], errors='coerce')\n",
    "    \n",
    "means = df.mean()\n",
    "df.fillna(means, inplace=True)"
   ]
  },
  {
   "cell_type": "markdown",
   "id": "c5eb34ac",
   "metadata": {},
   "source": [
    "### Анализируем кол-во пропущенных данных"
   ]
  },
  {
   "cell_type": "code",
   "execution_count": 7,
   "id": "e459bd53",
   "metadata": {},
   "outputs": [
    {
     "name": "stdout",
     "output_type": "stream",
     "text": [
      "                       Total  Percent Missing  Percent Non-Missing\n",
      "Global_active_power        0              0.0                100.0\n",
      "Global_reactive_power      0              0.0                100.0\n",
      "Voltage                    0              0.0                100.0\n",
      "Global_intensity           0              0.0                100.0\n",
      "Sub_metering_1             0              0.0                100.0\n",
      "Sub_metering_2             0              0.0                100.0\n",
      "Sub_metering_3             0              0.0                100.0\n",
      "hour                       0              0.0                100.0\n",
      "day_of_week                0              0.0                100.0\n",
      "is_weekend                 0              0.0                100.0\n",
      "month                      0              0.0                100.0\n",
      "hour_sin                   0              0.0                100.0\n",
      "hour_cos                   0              0.0                100.0\n"
     ]
    }
   ],
   "source": [
    "missingPercent = df.isnull().mean() * 100\n",
    "nonMisssingPercent = (1 - df.isnull().mean()) * 100\n",
    "\n",
    "missingStats = pd.DataFrame({\n",
    "    \"Total\": df.isnull().sum(), \n",
    "    \"Percent Missing\": missingPercent.round(2),  \n",
    "    \"Percent Non-Missing\": nonMisssingPercent.round(2) \n",
    "})\n",
    "\n",
    "print(missingStats)"
   ]
  },
  {
   "cell_type": "markdown",
   "id": "6473d544",
   "metadata": {},
   "source": [
    "### Подсчет уникальных значений для каждого признака, чтобы определить категории признаков"
   ]
  },
  {
   "cell_type": "code",
   "execution_count": 8,
   "id": "090e44c6",
   "metadata": {},
   "outputs": [
    {
     "name": "stdout",
     "output_type": "stream",
     "text": [
      "                  Feature  Unique Values  Percentage\n",
      "0     Global_active_power           4187    0.201758\n",
      "1   Global_reactive_power            533    0.025684\n",
      "2                 Voltage           2838    0.136754\n",
      "3        Global_intensity            222    0.010697\n",
      "4          Sub_metering_1             89    0.004289\n",
      "5          Sub_metering_2             82    0.003951\n",
      "6          Sub_metering_3             33    0.001590\n",
      "7                    hour             24    0.001156\n",
      "8             day_of_week              7    0.000337\n",
      "9              is_weekend              2    0.000096\n",
      "10                  month             12    0.000578\n",
      "11               hour_sin             21    0.001012\n",
      "12               hour_cos             22    0.001060\n"
     ]
    }
   ],
   "source": [
    "unique_counts = df.nunique()\n",
    "unique_counts_table = pd.DataFrame({\n",
    "    'Feature': unique_counts.index,\n",
    "    'Unique Values': unique_counts.values\n",
    "})\n",
    "\n",
    "unique_counts_table['Percentage'] = (unique_counts_table['Unique Values'] / len(df)) * 100\n",
    "print(unique_counts_table)"
   ]
  },
  {
   "cell_type": "code",
   "execution_count": 9,
   "id": "068c8423",
   "metadata": {},
   "outputs": [
    {
     "name": "stdout",
     "output_type": "stream",
     "text": [
      "Global_active_power      float64\n",
      "Global_reactive_power    float64\n",
      "Voltage                  float64\n",
      "Global_intensity         float64\n",
      "Sub_metering_1           float64\n",
      "Sub_metering_2           float64\n",
      "Sub_metering_3           float64\n",
      "hour                     float64\n",
      "day_of_week              float64\n",
      "is_weekend               float64\n",
      "month                    float64\n",
      "hour_sin                 float64\n",
      "hour_cos                 float64\n",
      "dtype: object\n"
     ]
    }
   ],
   "source": [
    "for col in df.columns:\n",
    "    df[col] = df[col].astype('float64')\n",
    "\n",
    "print(df.dtypes)"
   ]
  },
  {
   "cell_type": "code",
   "execution_count": 10,
   "id": "0b901d21",
   "metadata": {},
   "outputs": [
    {
     "name": "stdout",
     "output_type": "stream",
     "text": [
      "Global_active_power      1.000000\n",
      "Global_intensity         0.998889\n",
      "Sub_metering_3           0.638555\n",
      "Sub_metering_1           0.484401\n",
      "Sub_metering_2           0.434569\n",
      "Voltage                  0.399762\n",
      "hour                     0.279953\n",
      "Global_reactive_power    0.247017\n",
      "hour_sin                 0.186999\n",
      "hour_cos                 0.109704\n",
      "is_weekend               0.083841\n",
      "day_of_week              0.065320\n",
      "month                    0.032520\n",
      "Name: Global_active_power, dtype: float64\n"
     ]
    }
   ],
   "source": [
    "target = 'Global_active_power'\n",
    "correlations = df.corr(numeric_only=True)[target].abs().sort_values(ascending=False)\n",
    "print(correlations)"
   ]
  },
  {
   "cell_type": "code",
   "execution_count": 11,
   "id": "c5f4410a",
   "metadata": {},
   "outputs": [
    {
     "name": "stdout",
     "output_type": "stream",
     "text": [
      "Оставшиеся признаки:\n",
      "['Global_active_power', 'Global_intensity', 'Sub_metering_3', 'Sub_metering_1', 'Sub_metering_2', 'Voltage', 'hour', 'Global_reactive_power']\n"
     ]
    }
   ],
   "source": [
    "high_corr_features = correlations[correlations >= 0.2].index.tolist()\n",
    "\n",
    "df_filtered = df[high_corr_features]\n",
    "\n",
    "print(\"Оставшиеся признаки:\")\n",
    "print(high_corr_features)"
   ]
  },
  {
   "cell_type": "code",
   "execution_count": 13,
   "id": "c7cbf466",
   "metadata": {},
   "outputs": [],
   "source": [
    "df_filtered.to_csv('preprocessed_data.csv', index=True)"
   ]
  }
 ],
 "metadata": {
  "kernelspec": {
   "display_name": "venv",
   "language": "python",
   "name": "python3"
  },
  "language_info": {
   "codemirror_mode": {
    "name": "ipython",
    "version": 3
   },
   "file_extension": ".py",
   "mimetype": "text/x-python",
   "name": "python",
   "nbconvert_exporter": "python",
   "pygments_lexer": "ipython3",
   "version": "3.11.0"
  }
 },
 "nbformat": 4,
 "nbformat_minor": 5
}
