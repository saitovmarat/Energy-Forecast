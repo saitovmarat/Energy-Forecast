{
 "cells": [
  {
   "cell_type": "markdown",
   "id": "97d87f8d",
   "metadata": {},
   "source": [
    "## Исследование влияния уменьшения ряда с конца на качество прогнозирования моделей RNN и LSTM"
   ]
  },
  {
   "cell_type": "markdown",
   "id": "d4a57022",
   "metadata": {},
   "source": [
    "Особенно проверить, что ошибка на валидационных данных будет меньше, чем на тестовой при разбиении данных на другие части"
   ]
  },
  {
   "cell_type": "markdown",
   "id": "e57174fc",
   "metadata": {},
   "source": [
    "### Подключение библиотек"
   ]
  },
  {
   "cell_type": "code",
   "execution_count": 11,
   "id": "adf52ef8",
   "metadata": {},
   "outputs": [],
   "source": [
    "import pandas as pd\n",
    "import matplotlib.pyplot as plt\n",
    "from sklearn.preprocessing import MinMaxScaler\n",
    "from tensorflow.keras.models import Sequential\n",
    "from tensorflow.keras.layers import GRU, Dense, Input\n",
    "from tensorflow.keras.layers import LSTM\n",
    "from tensorflow.keras.optimizers import Adam\n",
    "\n",
    "import sys\n",
    "import os\n",
    "sys.path.append(os.path.abspath('..'))\n",
    "from helpful_functions import train_val_test_split, \\\n",
    "                              create_sequences,\\\n",
    "                              denormalize, \\\n",
    "                              train_and_evaluate_model          "
   ]
  },
  {
   "cell_type": "markdown",
   "id": "e3b82af0",
   "metadata": {},
   "source": [
    "### Подготовка данных"
   ]
  },
  {
   "cell_type": "code",
   "execution_count": 12,
   "id": "522770ff",
   "metadata": {},
   "outputs": [],
   "source": [
    "file_path = '../dataset/preprocessed_data.csv'\n",
    "df = pd.read_csv(file_path)\n",
    "\n",
    "df['datetime'] = pd.to_datetime(df['datetime'])\n",
    "df.set_index('datetime', inplace=True)\n",
    "df.sort_index(inplace=True)\n",
    "\n",
    "target_feature = 'Global_active_power'\n",
    "test_ratio = 0.10\n",
    "val_ratio = 0.10\n",
    "\n",
    "df = df.iloc[:-400000]\n",
    "\n",
    "train_data, val_data, test_data = train_val_test_split(df, val_ratio, test_ratio)\n",
    "\n",
    "scaler = MinMaxScaler(feature_range=(0, 1))\n",
    "train_scaled = scaler.fit_transform(train_data)\n",
    "val_scaled = scaler.transform(val_data)\n",
    "test_scaled = scaler.transform(test_data)\n",
    "\n",
    "target_idx = df.columns.get_loc(target_feature)\n",
    "\n",
    "features_count = train_data.shape[1]"
   ]
  },
  {
   "cell_type": "markdown",
   "id": "e900249e",
   "metadata": {},
   "source": [
    "### Обучение модели"
   ]
  },
  {
   "cell_type": "code",
   "execution_count": null,
   "id": "361bf9ec",
   "metadata": {},
   "outputs": [
    {
     "name": "stdout",
     "output_type": "stream",
     "text": [
      "LSTM | val_loss: 0.0003 | MSE_val: 0.0422\n"
     ]
    }
   ],
   "source": [
    "lr = 0.01\n",
    "window_size = 30\n",
    "\n",
    "X_train, y_train = create_sequences(train_scaled, target_idx, window_size)\n",
    "X_val, y_val = create_sequences(val_scaled, target_idx, window_size)\n",
    "X_test, y_test = create_sequences(test_scaled, target_idx, window_size)\n",
    "\n",
    "lstm_model = Sequential([\n",
    "    Input(shape=(window_size, features_count)),\n",
    "    LSTM(50, activation='tanh'),\n",
    "    Dense(1)\n",
    "])\n",
    "result_lstm = train_and_evaluate_model(\n",
    "    lstm_model, 'LSTM', X_train, y_train, X_val, y_val, X_test, y_test,\n",
    "    lr, window_size, scaler, target_feature, df.columns\n",
    ")"
   ]
  },
  {
   "cell_type": "markdown",
   "id": "96fa3a6e",
   "metadata": {},
   "source": [
    "### Вывод ошибок"
   ]
  },
  {
   "cell_type": "code",
   "execution_count": 15,
   "id": "575ca89d",
   "metadata": {},
   "outputs": [
    {
     "name": "stdout",
     "output_type": "stream",
     "text": [
      "\n",
      "Лучшая LSTM (по валидации):\n",
      "model_type           LSTM\n",
      "learning_rate        0.01\n",
      "window_size            30\n",
      "mse_val_dn       0.042153\n",
      "mse_test_dn      0.052729\n",
      "Name: 0, dtype: object\n"
     ]
    }
   ],
   "source": [
    "results_df = pd.DataFrame([result_lstm])\n",
    "\n",
    "best_lstm = results_df[results_df['model_type'] == 'LSTM'].nsmallest(1, 'mse_val_dn').iloc[0]\n",
    "\n",
    "print(\"\\nЛучшая LSTM (по валидации):\")\n",
    "print(best_lstm[['model_type', 'learning_rate', 'window_size', 'mse_val_dn', 'mse_test_dn']])"
   ]
  }
 ],
 "metadata": {
  "kernelspec": {
   "display_name": "venv",
   "language": "python",
   "name": "python3"
  },
  "language_info": {
   "codemirror_mode": {
    "name": "ipython",
    "version": 3
   },
   "file_extension": ".py",
   "mimetype": "text/x-python",
   "name": "python",
   "nbconvert_exporter": "python",
   "pygments_lexer": "ipython3",
   "version": "3.11.0"
  }
 },
 "nbformat": 4,
 "nbformat_minor": 5
}
