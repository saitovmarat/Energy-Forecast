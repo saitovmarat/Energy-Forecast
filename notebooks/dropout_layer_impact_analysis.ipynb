{
 "cells": [
  {
   "cell_type": "markdown",
   "id": "cea92b48",
   "metadata": {},
   "source": [
    "## Исследование влияния dropout на качество прогнозирования модели LSTM"
   ]
  },
  {
   "cell_type": "markdown",
   "id": "88ffcd8e",
   "metadata": {},
   "source": [
    "### Подключение библиотек"
   ]
  },
  {
   "cell_type": "code",
   "execution_count": 10,
   "id": "2909c22a",
   "metadata": {},
   "outputs": [],
   "source": [
    "import pandas as pd\n",
    "from sklearn.preprocessing import MinMaxScaler\n",
    "from tensorflow.keras.models import Sequential\n",
    "from tensorflow.keras.layers import Dense, Input\n",
    "from tensorflow.keras.layers import LSTM, Dropout\n",
    "from tensorflow.keras.optimizers import Adam\n",
    "\n",
    "import sys\n",
    "import os\n",
    "sys.path.append(os.path.abspath('..'))\n",
    "from helpful_functions import train_val_test_split, \\\n",
    "                              create_sequences, \\\n",
    "                              train_and_evaluate_model"
   ]
  },
  {
   "cell_type": "markdown",
   "id": "f0c6fa5f",
   "metadata": {},
   "source": [
    "### Подготовка данных"
   ]
  },
  {
   "cell_type": "code",
   "execution_count": 11,
   "id": "2f20e930",
   "metadata": {},
   "outputs": [],
   "source": [
    "file_path = '../dataset/preprocessed_data.csv'\n",
    "df = pd.read_csv(file_path)\n",
    "\n",
    "df['datetime'] = pd.to_datetime(df['datetime'])\n",
    "df.set_index('datetime', inplace=True)\n",
    "df.sort_index(inplace=True)\n",
    "\n",
    "target_feature = 'Global_active_power'\n",
    "test_ratio = 0.10\n",
    "val_ratio = 0.10\n",
    "\n",
    "train_data, val_data, test_data = train_val_test_split(df, val_ratio, test_ratio)\n",
    "\n",
    "scaler = MinMaxScaler(feature_range=(0, 1))\n",
    "train_scaled = scaler.fit_transform(train_data)\n",
    "val_scaled = scaler.transform(val_data)\n",
    "test_scaled = scaler.transform(test_data)\n",
    "\n",
    "target_idx = df.columns.get_loc(target_feature)\n",
    "\n",
    "features_count = train_data.shape[1]"
   ]
  },
  {
   "cell_type": "markdown",
   "id": "d4b60e4a",
   "metadata": {},
   "source": [
    "### Обучение моделей"
   ]
  },
  {
   "cell_type": "code",
   "execution_count": 12,
   "id": "e6d0765b",
   "metadata": {},
   "outputs": [
    {
     "name": "stdout",
     "output_type": "stream",
     "text": [
      "\n",
      "Обучение модели: LSTM\n",
      "LSTM | val_loss: 0.0003 | MSE_val: 0.0421\n",
      "\n",
      "Обучение модели: LSTM_Dropout1_0.2\n",
      "LSTM_Dropout1_0.2 | val_loss: 0.0003 | MSE_val: 0.0383\n",
      "\n",
      "Обучение модели: LSTM_Dropout1_0.3\n",
      "LSTM_Dropout1_0.3 | val_loss: 0.0003 | MSE_val: 0.0394\n",
      "\n",
      "Обучение модели: LSTM_Dropout1_0.5\n",
      "LSTM_Dropout1_0.5 | val_loss: 0.0003 | MSE_val: 0.0403\n",
      "\n",
      "Обучение модели: LSTM_Dropout2_0.2\n",
      "LSTM_Dropout2_0.2 | val_loss: 0.0003 | MSE_val: 0.0403\n",
      "\n",
      "Обучение модели: LSTM_Dropout2_0.3\n",
      "LSTM_Dropout2_0.3 | val_loss: 0.0003 | MSE_val: 0.0397\n",
      "\n",
      "Обучение модели: LSTM_Dropout2_0.5\n",
      "LSTM_Dropout2_0.5 | val_loss: 0.0003 | MSE_val: 0.0421\n",
      "\n",
      "Обучение модели: LSTM_Dropout1_0.2_Dropout2_0.2\n",
      "LSTM_Dropout1_0.2_Dropout2_0.2 | val_loss: 0.0003 | MSE_val: 0.0417\n",
      "\n",
      "Обучение модели: LSTM_Dropout1_0.3_Dropout2_0.3\n",
      "LSTM_Dropout1_0.3_Dropout2_0.3 | val_loss: 0.0004 | MSE_val: 0.0444\n",
      "\n",
      "Обучение модели: LSTM_Dropout1_0.5_Dropout2_0.5\n",
      "LSTM_Dropout1_0.5_Dropout2_0.5 | val_loss: 0.0013 | MSE_val: 0.1532\n"
     ]
    }
   ],
   "source": [
    "lr = 0.01\n",
    "window_size = 30\n",
    "\n",
    "X_train, y_train = create_sequences(train_scaled, target_idx, window_size)\n",
    "X_val, y_val = create_sequences(val_scaled, target_idx, window_size)\n",
    "X_test, y_test = create_sequences(test_scaled, target_idx, window_size)\n",
    "\n",
    "dropout_configs = [\n",
    "    [('none', 0), ('none', 0)], \n",
    "    [('after_first', 0.2), ('none', 0)],\n",
    "    [('after_first', 0.3), ('none', 0)],\n",
    "    [('after_first', 0.5), ('none', 0)],\n",
    "    [('none', 0), ('after_second', 0.2)],\n",
    "    [('none', 0), ('after_second', 0.3)],\n",
    "    [('none', 0), ('after_second', 0.5)],\n",
    "    [('after_first', 0.2), ('after_second', 0.2)],\n",
    "    [('after_first', 0.3), ('after_second', 0.3)],\n",
    "    [('after_first', 0.5), ('after_second', 0.5)],\n",
    "]\n",
    "\n",
    "results = {}\n",
    "\n",
    "for config in dropout_configs:\n",
    "    model_name = \"LSTM\"\n",
    "    model = Sequential()\n",
    "    model.add(Input(shape=(window_size, features_count)))\n",
    "\n",
    "    model.add(LSTM(100, activation='tanh', return_sequences=True))\n",
    "    if config[0][0] == 'after_first':\n",
    "        model.add(Dropout(config[0][1]))\n",
    "        model_name += f\"_Dropout1_{config[0][1]}\"\n",
    "\n",
    "    model.add(LSTM(50, activation='tanh'))\n",
    "    if config[1][0] == 'after_second':\n",
    "        model.add(Dropout(config[1][1]))\n",
    "        model_name += f\"_Dropout2_{config[1][1]}\"\n",
    "\n",
    "    model.add(Dense(1))\n",
    "    model.compile(optimizer=Adam(learning_rate=lr), loss='mse')\n",
    "    \n",
    "    print(f\"\\nОбучение модели: {model_name}\")\n",
    "    result = train_and_evaluate_model(\n",
    "        model, model_name, X_train, y_train, X_val, y_val, X_test, y_test,\n",
    "        lr, window_size, scaler, target_feature, df.columns\n",
    "    )\n",
    "\n",
    "    results[model_name] = result"
   ]
  },
  {
   "cell_type": "markdown",
   "id": "dc5a9944",
   "metadata": {},
   "source": [
    "### Вывод информации всех результатов обучения модели"
   ]
  },
  {
   "cell_type": "code",
   "execution_count": 13,
   "id": "7d969aad",
   "metadata": {},
   "outputs": [
    {
     "name": "stdout",
     "output_type": "stream",
     "text": [
      "                       model_type  learning_rate  window_size  train_loss  \\\n",
      "1               LSTM_Dropout1_0.2           0.01           30    0.000459   \n",
      "2               LSTM_Dropout1_0.3           0.01           30    0.000467   \n",
      "5               LSTM_Dropout2_0.3           0.01           30    0.000529   \n",
      "3               LSTM_Dropout1_0.5           0.01           30    0.000494   \n",
      "4               LSTM_Dropout2_0.2           0.01           30    0.000492   \n",
      "7  LSTM_Dropout1_0.2_Dropout2_0.2           0.01           30    0.000525   \n",
      "0                            LSTM           0.01           30    0.000426   \n",
      "6               LSTM_Dropout2_0.5           0.01           30    0.000651   \n",
      "8  LSTM_Dropout1_0.3_Dropout2_0.3           0.01           30    0.000602   \n",
      "9  LSTM_Dropout1_0.5_Dropout2_0.5           0.01           30    0.001907   \n",
      "\n",
      "   val_loss  mse_val_dn  mse_test_dn  \n",
      "1  0.000314    0.038322     0.032350  \n",
      "2  0.000323    0.039385     0.033443  \n",
      "5  0.000325    0.039697     0.033217  \n",
      "3  0.000330    0.040251     0.034284  \n",
      "4  0.000330    0.040262     0.033735  \n",
      "7  0.000342    0.041692     0.035008  \n",
      "0  0.000345    0.042073     0.036487  \n",
      "6  0.000345    0.042087     0.035503  \n",
      "8  0.000364    0.044429     0.037873  \n",
      "9  0.001256    0.153241     0.139908  \n"
     ]
    }
   ],
   "source": [
    "results_df = pd.DataFrame(results.values())\n",
    "print(results_df.sort_values(by=['mse_val_dn']))"
   ]
  },
  {
   "cell_type": "markdown",
   "id": "8f117a03",
   "metadata": {},
   "source": [
    "### Вывод информации лучшей модели"
   ]
  },
  {
   "cell_type": "code",
   "execution_count": 14,
   "id": "7bbec0f7",
   "metadata": {},
   "outputs": [
    {
     "name": "stdout",
     "output_type": "stream",
     "text": [
      "\n",
      "Лучшая LSTM (по валидации):\n",
      "model_type       LSTM_Dropout1_0.2\n",
      "learning_rate                 0.01\n",
      "window_size                     30\n",
      "mse_val_dn                0.038322\n",
      "mse_test_dn                0.03235\n",
      "Name: 1, dtype: object\n"
     ]
    }
   ],
   "source": [
    "lstm_results = results_df[results_df['model_type'].str.startswith('LSTM_')]\n",
    "best_lstm = lstm_results.nsmallest(1, 'mse_val_dn').iloc[0]\n",
    "\n",
    "print(\"\\nЛучшая LSTM (по валидации):\")\n",
    "print(best_lstm[['model_type', 'learning_rate', 'window_size', 'mse_val_dn', 'mse_test_dn']])"
   ]
  }
 ],
 "metadata": {
  "kernelspec": {
   "display_name": "venv",
   "language": "python",
   "name": "python3"
  },
  "language_info": {
   "codemirror_mode": {
    "name": "ipython",
    "version": 3
   },
   "file_extension": ".py",
   "mimetype": "text/x-python",
   "name": "python",
   "nbconvert_exporter": "python",
   "pygments_lexer": "ipython3",
   "version": "3.11.0"
  }
 },
 "nbformat": 4,
 "nbformat_minor": 5
}
