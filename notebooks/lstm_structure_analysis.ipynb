{
 "cells": [
  {
   "cell_type": "markdown",
   "id": "cee31812",
   "metadata": {},
   "source": [
    "## Исследование структуры LSTM моделей"
   ]
  },
  {
   "cell_type": "markdown",
   "id": "6fba8ba1",
   "metadata": {},
   "source": [
    "### Подключение библиотек"
   ]
  },
  {
   "cell_type": "code",
   "execution_count": 4,
   "id": "0db60885",
   "metadata": {},
   "outputs": [],
   "source": [
    "import pandas as pd\n",
    "import matplotlib.pyplot as plt\n",
    "from sklearn.preprocessing import MinMaxScaler\n",
    "from tensorflow.keras.models import Sequential\n",
    "from tensorflow.keras.layers import Dense, Input\n",
    "from tensorflow.keras.layers import LSTM\n",
    "from tensorflow.keras.optimizers import Adam\n",
    "\n",
    "import sys\n",
    "import os\n",
    "sys.path.append(os.path.abspath('..'))\n",
    "from helpful_functions import train_val_test_split, \\\n",
    "                              create_sequences,\\\n",
    "                              train_and_evaluate_model"
   ]
  },
  {
   "cell_type": "markdown",
   "id": "a349b4d2",
   "metadata": {},
   "source": [
    "### Подготовка данных"
   ]
  },
  {
   "cell_type": "code",
   "execution_count": 5,
   "id": "4cbf4ef9",
   "metadata": {},
   "outputs": [],
   "source": [
    "file_path = '../dataset/preprocessed_data.csv'\n",
    "df = pd.read_csv(file_path)\n",
    "\n",
    "df['datetime'] = pd.to_datetime(df['datetime'])\n",
    "df.set_index('datetime', inplace=True)\n",
    "df.sort_index(inplace=True)\n",
    "\n",
    "target_feature = 'Global_active_power'\n",
    "test_ratio = 0.10\n",
    "val_ratio = 0.10\n",
    "\n",
    "train_data, val_data, test_data = train_val_test_split(df, val_ratio, test_ratio)\n",
    "\n",
    "scaler = MinMaxScaler(feature_range=(0, 1))\n",
    "train_scaled = scaler.fit_transform(train_data)\n",
    "val_scaled = scaler.transform(val_data)\n",
    "test_scaled = scaler.transform(test_data)\n",
    "\n",
    "target_idx = df.columns.get_loc(target_feature)\n",
    "\n",
    "features_count = train_data.shape[1]"
   ]
  },
  {
   "cell_type": "markdown",
   "id": "88d357b1",
   "metadata": {},
   "source": [
    "### Обучение моделей с разными структурами"
   ]
  },
  {
   "cell_type": "code",
   "execution_count": 6,
   "id": "ef9f5501",
   "metadata": {},
   "outputs": [
    {
     "name": "stdout",
     "output_type": "stream",
     "text": [
      "\n",
      "Обучение модели: LSTM_50\n",
      "LSTM_50 | val_loss: 0.0004 | MSE_val: 0.0444\n",
      "\n",
      "Обучение модели: LSTM_100\n",
      "LSTM_100 | val_loss: 0.0004 | MSE_val: 0.0429\n",
      "\n",
      "Обучение модели: LSTM_150\n",
      "LSTM_150 | val_loss: 0.0003 | MSE_val: 0.0424\n",
      "\n",
      "Обучение модели: LSTM_50_50\n",
      "LSTM_50_50 | val_loss: 0.0003 | MSE_val: 0.0409\n",
      "\n",
      "Обучение модели: LSTM_50_100\n",
      "LSTM_50_100 | val_loss: 0.0003 | MSE_val: 0.0396\n",
      "\n",
      "Обучение модели: LSTM_100_50\n",
      "LSTM_100_50 | val_loss: 0.0003 | MSE_val: 0.0389\n",
      "\n",
      "Обучение модели: LSTM_100_100\n",
      "LSTM_100_100 | val_loss: 0.0004 | MSE_val: 0.0432\n",
      "\n",
      "Обучение модели: LSTM_100_150\n",
      "LSTM_100_150 | val_loss: 0.0003 | MSE_val: 0.0414\n",
      "\n",
      "Обучение модели: LSTM_150_150\n",
      "LSTM_150_150 | val_loss: 0.0003 | MSE_val: 0.0403\n"
     ]
    }
   ],
   "source": [
    "lr = 0.01\n",
    "window_size = 30\n",
    "\n",
    "X_train, y_train = create_sequences(train_scaled, target_idx, window_size)\n",
    "X_val, y_val = create_sequences(val_scaled, target_idx, window_size)\n",
    "X_test, y_test = create_sequences(test_scaled, target_idx, window_size)\n",
    "\n",
    "lstm_architectures = [\n",
    "    [50],\n",
    "    [100],\n",
    "    [150],\n",
    "    [50, 50],\n",
    "    [50, 100],\n",
    "    [100, 50],\n",
    "    [100, 100],\n",
    "    [100, 150],\n",
    "    [150, 150]\n",
    "]\n",
    "\n",
    "results = {}\n",
    "\n",
    "for arch in lstm_architectures:\n",
    "    model_name = \"LSTM_\" + \"_\".join(map(str, arch))\n",
    "    print(f\"\\nОбучение модели: {model_name}\")\n",
    "\n",
    "    lstm_model = Sequential()\n",
    "    lstm_model.add(Input(shape=(window_size, features_count)))\n",
    "\n",
    "    for i, units in enumerate(arch):\n",
    "        return_sequences = i < len(arch) - 1 \n",
    "        lstm_model.add(LSTM(units, activation='tanh', return_sequences=return_sequences))\n",
    "\n",
    "    lstm_model.add(Dense(1))\n",
    "\n",
    "    optimizer = Adam(learning_rate=lr)\n",
    "    lstm_model.compile(optimizer=optimizer, loss='mse', metrics=['mae'])\n",
    "\n",
    "    result = train_and_evaluate_model(\n",
    "        lstm_model, model_name, X_train, y_train, X_val, y_val, X_test, y_test,\n",
    "        lr, window_size, scaler, target_feature, df.columns\n",
    "    )\n",
    "\n",
    "    results[model_name] = result"
   ]
  },
  {
   "cell_type": "markdown",
   "id": "d0c8b5b7",
   "metadata": {},
   "source": [
    "### Вывод ошибок всех структур моделей"
   ]
  },
  {
   "cell_type": "code",
   "execution_count": 12,
   "id": "4870c36e",
   "metadata": {},
   "outputs": [
    {
     "name": "stdout",
     "output_type": "stream",
     "text": [
      "     model_type  learning_rate  window_size  train_loss  val_loss  mse_val_dn  \\\n",
      "5   LSTM_100_50           0.01           30    0.000418  0.000319    0.038893   \n",
      "4   LSTM_50_100           0.01           30    0.000430  0.000325    0.039609   \n",
      "8  LSTM_150_150           0.01           30    0.000422  0.000330    0.040311   \n",
      "3    LSTM_50_50           0.01           30    0.000426  0.000335    0.040850   \n",
      "7  LSTM_100_150           0.01           30    0.000425  0.000339    0.041356   \n",
      "2      LSTM_150           0.01           30    0.000453  0.000347    0.042391   \n",
      "1      LSTM_100           0.01           30    0.000453  0.000352    0.042949   \n",
      "6  LSTM_100_100           0.01           30    0.000431  0.000354    0.043171   \n",
      "0       LSTM_50           0.01           30    0.000457  0.000364    0.044413   \n",
      "\n",
      "   mse_test_dn  \n",
      "5     0.033188  \n",
      "4     0.033370  \n",
      "8     0.032949  \n",
      "3     0.035816  \n",
      "7     0.035750  \n",
      "2     0.034993  \n",
      "1     0.036102  \n",
      "6     0.037436  \n",
      "0     0.037440  \n"
     ]
    }
   ],
   "source": [
    "results_df = pd.DataFrame(results.values())\n",
    "print(results_df.sort_values(by=['mse_val_dn']))"
   ]
  },
  {
   "cell_type": "markdown",
   "id": "e1a00a56",
   "metadata": {},
   "source": [
    "### Вывод информации о лучшей структуре модели"
   ]
  },
  {
   "cell_type": "code",
   "execution_count": 15,
   "id": "04508eb0",
   "metadata": {},
   "outputs": [
    {
     "name": "stdout",
     "output_type": "stream",
     "text": [
      "\n",
      "Лучшая LSTM (по валидации):\n",
      "model_type       LSTM_100_50\n",
      "learning_rate           0.01\n",
      "window_size               30\n",
      "mse_val_dn          0.038893\n",
      "mse_test_dn         0.033188\n",
      "Name: 5, dtype: object\n"
     ]
    }
   ],
   "source": [
    "lstm_results = results_df[results_df['model_type'].str.startswith('LSTM_')]\n",
    "best_lstm = lstm_results.nsmallest(1, 'mse_val_dn').iloc[0]\n",
    "\n",
    "print(\"\\nЛучшая LSTM (по валидации):\")\n",
    "print(best_lstm[['model_type', 'learning_rate', 'window_size', 'mse_val_dn', 'mse_test_dn']])"
   ]
  }
 ],
 "metadata": {
  "kernelspec": {
   "display_name": "venv",
   "language": "python",
   "name": "python3"
  },
  "language_info": {
   "codemirror_mode": {
    "name": "ipython",
    "version": 3
   },
   "file_extension": ".py",
   "mimetype": "text/x-python",
   "name": "python",
   "nbconvert_exporter": "python",
   "pygments_lexer": "ipython3",
   "version": "3.11.0"
  }
 },
 "nbformat": 4,
 "nbformat_minor": 5
}
