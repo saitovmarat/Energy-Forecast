{
 "cells": [
  {
   "cell_type": "markdown",
   "id": "a3d62c53",
   "metadata": {},
   "source": [
    "## Подбор функций акивации для LSTM моделей"
   ]
  },
  {
   "cell_type": "markdown",
   "id": "3fe0719e",
   "metadata": {},
   "source": [
    "### Подключение библиотек"
   ]
  },
  {
   "cell_type": "code",
   "execution_count": 1,
   "id": "b3db99cb",
   "metadata": {},
   "outputs": [],
   "source": [
    "import pandas as pd\n",
    "from sklearn.preprocessing import MinMaxScaler\n",
    "from tensorflow.keras.models import Sequential\n",
    "from tensorflow.keras.layers import Dense, Input\n",
    "from tensorflow.keras.layers import LSTM, Dropout\n",
    "from tensorflow.keras.optimizers import Adam\n",
    "\n",
    "import sys\n",
    "import os\n",
    "sys.path.append(os.path.abspath('..'))\n",
    "from helpful_functions import train_val_test_split, \\\n",
    "                              create_sequences, \\\n",
    "                              train_and_evaluate_model"
   ]
  },
  {
   "cell_type": "markdown",
   "id": "f546f95a",
   "metadata": {},
   "source": [
    "### Подготовка данных"
   ]
  },
  {
   "cell_type": "code",
   "execution_count": 2,
   "id": "7b0a07ba",
   "metadata": {},
   "outputs": [],
   "source": [
    "file_path = '../dataset/preprocessed_data.csv'\n",
    "df = pd.read_csv(file_path)\n",
    "\n",
    "df['datetime'] = pd.to_datetime(df['datetime'])\n",
    "df.set_index('datetime', inplace=True)\n",
    "df.sort_index(inplace=True)\n",
    "\n",
    "target_feature = 'Global_active_power'\n",
    "test_ratio = 0.10\n",
    "val_ratio = 0.10\n",
    "\n",
    "train_data, val_data, test_data = train_val_test_split(df, val_ratio, test_ratio)\n",
    "\n",
    "scaler = MinMaxScaler(feature_range=(0, 1))\n",
    "train_scaled = scaler.fit_transform(train_data)\n",
    "val_scaled = scaler.transform(val_data)\n",
    "test_scaled = scaler.transform(test_data)\n",
    "\n",
    "target_idx = df.columns.get_loc(target_feature)\n",
    "\n",
    "features_count = train_data.shape[1]"
   ]
  },
  {
   "cell_type": "markdown",
   "id": "15bb46d6",
   "metadata": {},
   "source": [
    "### Обучение моделей"
   ]
  },
  {
   "cell_type": "code",
   "execution_count": 3,
   "id": "94e0ae4a",
   "metadata": {},
   "outputs": [
    {
     "name": "stdout",
     "output_type": "stream",
     "text": [
      "\n",
      "==================================================\n",
      "Тестирование комбинации 1/9: LSTM1=tanh, LSTM2=relu\n",
      "LSTM_tanh_relu | val_loss: 0.0003 | MSE_val: 0.0409\n",
      "\n",
      "==================================================\n",
      "Тестирование комбинации 2/9: LSTM1=relu, LSTM2=tanh\n",
      "LSTM_relu_tanh | val_loss: 0.0006 | MSE_val: 0.0754\n",
      "\n",
      "==================================================\n",
      "Тестирование комбинации 3/9: LSTM1=sigmoid, LSTM2=relu\n",
      "LSTM_sigmoid_relu | val_loss: 0.0004 | MSE_val: 0.0510\n",
      "\n",
      "==================================================\n",
      "Тестирование комбинации 4/9: LSTM1=relu, LSTM2=sigmoid\n",
      "LSTM_relu_sigmoid | val_loss: 0.0059 | MSE_val: 0.7256\n",
      "\n",
      "==================================================\n",
      "Тестирование комбинации 5/9: LSTM1=tanh, LSTM2=tanh\n",
      "LSTM_tanh_tanh | val_loss: 0.0003 | MSE_val: 0.0398\n",
      "\n",
      "==================================================\n",
      "Тестирование комбинации 6/9: LSTM1=sigmoid, LSTM2=tanh\n",
      "LSTM_sigmoid_tanh | val_loss: 0.0005 | MSE_val: 0.0614\n",
      "\n",
      "==================================================\n",
      "Тестирование комбинации 7/9: LSTM1=tanh, LSTM2=sigmoid\n",
      "LSTM_tanh_sigmoid | val_loss: 0.0003 | MSE_val: 0.0417\n",
      "\n",
      "==================================================\n",
      "Тестирование комбинации 8/9: LSTM1=sigmoid, LSTM2=sigmoid\n",
      "LSTM_sigmoid_sigmoid | val_loss: 0.0004 | MSE_val: 0.0455\n",
      "\n",
      "==================================================\n",
      "Тестирование комбинации 9/9: LSTM1=relu, LSTM2=relu\n",
      "LSTM_relu_relu | val_loss: 0.0013 | MSE_val: 0.1622\n"
     ]
    }
   ],
   "source": [
    "lr = 0.01\n",
    "window_size = 30\n",
    "\n",
    "X_train, y_train = create_sequences(train_scaled, target_idx, window_size)\n",
    "X_val, y_val = create_sequences(val_scaled, target_idx, window_size)\n",
    "X_test, y_test = create_sequences(test_scaled, target_idx, window_size)\n",
    "\n",
    "results = {}\n",
    "\n",
    "activations_to_test = {\n",
    "    (\"tanh\", \"tanh\"),\n",
    "    (\"relu\", \"tanh\"),\n",
    "    (\"sigmoid\", \"tanh\"),\n",
    "    (\"tanh\", \"relu\"),\n",
    "    (\"relu\", \"relu\"),\n",
    "    (\"sigmoid\", \"relu\"),\n",
    "    (\"tanh\", \"sigmoid\"),\n",
    "    (\"relu\", \"sigmoid\"),\n",
    "    (\"sigmoid\", \"sigmoid\")\n",
    "}\n",
    "\n",
    "results = {}\n",
    "\n",
    "for idx, (act1, act2) in enumerate(activations_to_test):\n",
    "    print(f\"\\n{'=' * 50}\")\n",
    "    print(f\"Тестирование комбинации {idx + 1}/{len(activations_to_test)}: \"\n",
    "          f\"LSTM1={act1}, LSTM2={act2}\")\n",
    "    model_name = f\"LSTM_{act1}_{act2}\"\n",
    "\n",
    "    model = Sequential()\n",
    "    model.add(Input(shape=(window_size, features_count)))\n",
    "    model.add(LSTM(100, activation=act1, return_sequences=True))\n",
    "    model.add(Dropout(0.2))\n",
    "    model.add(LSTM(50, activation=act2))\n",
    "    model.add(Dense(1))\n",
    "    \n",
    "    result = train_and_evaluate_model(\n",
    "        model, model_name, X_train, y_train, X_val, y_val, X_test, y_test,\n",
    "        lr, window_size, scaler, target_feature, df.columns\n",
    "    )\n",
    "    \n",
    "    results[model_name] = result"
   ]
  },
  {
   "cell_type": "markdown",
   "id": "9c2c234b",
   "metadata": {},
   "source": [
    "### Вывод информации всех результатов обучения модели"
   ]
  },
  {
   "cell_type": "code",
   "execution_count": 4,
   "id": "ec16c419",
   "metadata": {},
   "outputs": [
    {
     "name": "stdout",
     "output_type": "stream",
     "text": [
      "             model_type  learning_rate  window_size  train_loss  val_loss  \\\n",
      "4        LSTM_tanh_tanh           0.01           30    0.000457  0.000326   \n",
      "0        LSTM_tanh_relu           0.01           30    0.000458  0.000336   \n",
      "6     LSTM_tanh_sigmoid           0.01           30    0.000465  0.000342   \n",
      "7  LSTM_sigmoid_sigmoid           0.01           30    0.000504  0.000373   \n",
      "2     LSTM_sigmoid_relu           0.01           30    0.000540  0.000418   \n",
      "5     LSTM_sigmoid_tanh           0.01           30    0.000497  0.000504   \n",
      "1        LSTM_relu_tanh           0.01           30    0.000495  0.000618   \n",
      "8        LSTM_relu_relu           0.01           30    0.000534  0.001330   \n",
      "3     LSTM_relu_sigmoid           0.01           30    0.009387  0.005947   \n",
      "\n",
      "   mse_val_dn  mse_test_dn  \n",
      "4    0.039811     0.033824  \n",
      "0    0.040938     0.035352  \n",
      "6    0.041734     0.035343  \n",
      "7    0.045474     0.040482  \n",
      "2    0.050999     0.044883  \n",
      "5    0.061447     0.056551  \n",
      "1    0.075381     0.061415  \n",
      "8    0.162237     0.133939  \n",
      "3    0.725624     0.705425  \n"
     ]
    }
   ],
   "source": [
    "results_df = pd.DataFrame(results.values())\n",
    "print(results_df.sort_values(by=['mse_val_dn']))"
   ]
  },
  {
   "cell_type": "markdown",
   "id": "8d16159a",
   "metadata": {},
   "source": [
    "### Вывод информации лучшей модели"
   ]
  },
  {
   "cell_type": "code",
   "execution_count": 5,
   "id": "55f7bc6f",
   "metadata": {},
   "outputs": [
    {
     "name": "stdout",
     "output_type": "stream",
     "text": [
      "\n",
      "Лучшая LSTM (по валидации):\n",
      "model_type       LSTM_tanh_tanh\n",
      "learning_rate              0.01\n",
      "window_size                  30\n",
      "mse_val_dn             0.039811\n",
      "mse_test_dn            0.033824\n",
      "Name: 4, dtype: object\n"
     ]
    }
   ],
   "source": [
    "lstm_results = results_df[results_df['model_type'].str.startswith('LSTM_')]\n",
    "best_lstm = lstm_results.nsmallest(1, 'mse_val_dn').iloc[0]\n",
    "\n",
    "print(\"\\nЛучшая LSTM (по валидации):\")\n",
    "print(best_lstm[['model_type', 'learning_rate', 'window_size', 'mse_val_dn', 'mse_test_dn']])"
   ]
  }
 ],
 "metadata": {
  "kernelspec": {
   "display_name": "venv",
   "language": "python",
   "name": "python3"
  },
  "language_info": {
   "codemirror_mode": {
    "name": "ipython",
    "version": 3
   },
   "file_extension": ".py",
   "mimetype": "text/x-python",
   "name": "python",
   "nbconvert_exporter": "python",
   "pygments_lexer": "ipython3",
   "version": "3.11.0"
  }
 },
 "nbformat": 4,
 "nbformat_minor": 5
}
